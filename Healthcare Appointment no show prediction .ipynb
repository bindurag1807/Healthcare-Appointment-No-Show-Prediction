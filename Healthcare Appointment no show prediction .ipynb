{
 "cells": [
  {
   "cell_type": "code",
   "execution_count": 1,
   "id": "25625405-91ff-4b2c-aeec-421926399651",
   "metadata": {},
   "outputs": [],
   "source": [
    "import pandas as pd\n",
    "import matplotlib.pyplot as plt\n",
    "import seaborn as sns\n",
    "\n",
    "from sklearn.model_selection import train_test_split\n",
    "from sklearn.preprocessing import LabelEncoder, StandardScaler\n",
    "from sklearn.linear_model import LogisticRegression\n",
    "from sklearn.tree import DecisionTreeClassifier\n",
    "from sklearn.ensemble import RandomForestClassifier\n",
    "from sklearn.metrics import accuracy_score, classification_report, confusion_matrix\n"
   ]
  },
  {
   "cell_type": "code",
   "execution_count": 2,
   "id": "3d1b6592-75fc-4f4d-b0fb-c0a2f748407a",
   "metadata": {},
   "outputs": [
    {
     "name": "stdout",
     "output_type": "stream",
     "text": [
      "# First 5 rows:\n",
      "       PatientId  AppointmentID Gender          ScheduledDay  \\\n",
      "0  2.987250e+13        5642903      F  2016-04-29T18:38:08Z   \n",
      "1  5.589978e+14        5642503      M  2016-04-29T16:08:27Z   \n",
      "2  4.262962e+12        5642549      F  2016-04-29T16:19:04Z   \n",
      "3  8.679512e+11        5642828      F  2016-04-29T17:29:31Z   \n",
      "4  8.841186e+12        5642494      F  2016-04-29T16:07:23Z   \n",
      "\n",
      "         AppointmentDay  Age      Neighbourhood  Scholarship  Hipertension  \\\n",
      "0  2016-04-29T00:00:00Z   62    JARDIM DA PENHA            0             1   \n",
      "1  2016-04-29T00:00:00Z   56    JARDIM DA PENHA            0             0   \n",
      "2  2016-04-29T00:00:00Z   62      MATA DA PRAIA            0             0   \n",
      "3  2016-04-29T00:00:00Z    8  PONTAL DE CAMBURI            0             0   \n",
      "4  2016-04-29T00:00:00Z   56    JARDIM DA PENHA            0             1   \n",
      "\n",
      "   Diabetes  Alcoholism  Handcap  SMS_received No-show  \n",
      "0         0           0        0             0      No  \n",
      "1         0           0        0             0      No  \n",
      "2         0           0        0             0      No  \n",
      "3         0           0        0             0      No  \n",
      "4         1           0        0             0      No   \n",
      "\n",
      "# Info:\n",
      "\n",
      "<class 'pandas.core.frame.DataFrame'>\n",
      "RangeIndex: 110527 entries, 0 to 110526\n",
      "Data columns (total 14 columns):\n",
      " #   Column          Non-Null Count   Dtype  \n",
      "---  ------          --------------   -----  \n",
      " 0   PatientId       110527 non-null  float64\n",
      " 1   AppointmentID   110527 non-null  int64  \n",
      " 2   Gender          110527 non-null  object \n",
      " 3   ScheduledDay    110527 non-null  object \n",
      " 4   AppointmentDay  110527 non-null  object \n",
      " 5   Age             110527 non-null  int64  \n",
      " 6   Neighbourhood   110527 non-null  object \n",
      " 7   Scholarship     110527 non-null  int64  \n",
      " 8   Hipertension    110527 non-null  int64  \n",
      " 9   Diabetes        110527 non-null  int64  \n",
      " 10  Alcoholism      110527 non-null  int64  \n",
      " 11  Handcap         110527 non-null  int64  \n",
      " 12  SMS_received    110527 non-null  int64  \n",
      " 13  No-show         110527 non-null  object \n",
      "dtypes: float64(1), int64(8), object(5)\n",
      "memory usage: 11.8+ MB\n",
      "None\n"
     ]
    }
   ],
   "source": [
    "df = pd.read_csv(\"KaggleV2-May-2016.csv\")\n",
    "\n",
    "# Quick check\n",
    "print(\"# First 5 rows:\\n\", df.head(), \"\\n\")\n",
    "print(\"# Info:\\n\")\n",
    "print(df.info())\n"
   ]
  },
  {
   "cell_type": "code",
   "execution_count": 3,
   "id": "663daa2b-9119-47c0-87fd-fc656424e5e0",
   "metadata": {},
   "outputs": [],
   "source": [
    "#Rename column and check"
   ]
  },
  {
   "cell_type": "code",
   "execution_count": 4,
   "id": "865ce777-146a-4011-9186-da916dbf6896",
   "metadata": {},
   "outputs": [
    {
     "name": "stdout",
     "output_type": "stream",
     "text": [
      "# Columns after renaming:\n",
      " Index(['PatientId', 'AppointmentID', 'Gender', 'ScheduledDay',\n",
      "       'AppointmentDay', 'Age', 'Neighbourhood', 'Scholarship', 'Hipertension',\n",
      "       'Diabetes', 'Alcoholism', 'Handcap', 'SMS_received', 'No_show'],\n",
      "      dtype='object') \n",
      "\n"
     ]
    }
   ],
   "source": [
    "df.rename(columns={'No-show': 'No_show'}, inplace=True)\n",
    "print(\"# Columns after renaming:\\n\", df.columns, \"\\n\")\n"
   ]
  },
  {
   "cell_type": "code",
   "execution_count": 5,
   "id": "c53aaf09-da01-4fd6-a7e1-3e71923ce29b",
   "metadata": {},
   "outputs": [],
   "source": [
    "#Convert date columns and create new features"
   ]
  },
  {
   "cell_type": "code",
   "execution_count": 6,
   "id": "239a6966-6357-456b-b17f-b87dd378a3c9",
   "metadata": {},
   "outputs": [
    {
     "name": "stdout",
     "output_type": "stream",
     "text": [
      "               ScheduledDay            AppointmentDay  WaitingDays  \\\n",
      "0 2016-04-29 18:38:08+00:00 2016-04-29 00:00:00+00:00           -1   \n",
      "1 2016-04-29 16:08:27+00:00 2016-04-29 00:00:00+00:00           -1   \n",
      "2 2016-04-29 16:19:04+00:00 2016-04-29 00:00:00+00:00           -1   \n",
      "3 2016-04-29 17:29:31+00:00 2016-04-29 00:00:00+00:00           -1   \n",
      "4 2016-04-29 16:07:23+00:00 2016-04-29 00:00:00+00:00           -1   \n",
      "\n",
      "  AppointmentWeekDay  \n",
      "0             Friday  \n",
      "1             Friday  \n",
      "2             Friday  \n",
      "3             Friday  \n",
      "4             Friday  \n"
     ]
    }
   ],
   "source": [
    "# Convert to datetime\n",
    "df['ScheduledDay'] = pd.to_datetime(df['ScheduledDay'])\n",
    "df['AppointmentDay'] = pd.to_datetime(df['AppointmentDay'])\n",
    "\n",
    "# Create date-related features\n",
    "df['WaitingDays'] = (df['AppointmentDay'] - df['ScheduledDay']).dt.days\n",
    "df['ScheduledDay_Weekday'] = df['ScheduledDay'].dt.weekday\n",
    "df['AppointmentDay_Weekday'] = df['AppointmentDay'].dt.weekday\n",
    "df['AppointmentWeekDay'] = df['AppointmentDay'].dt.day_name()\n",
    "\n",
    "# Show results\n",
    "print(df[['ScheduledDay', 'AppointmentDay', 'WaitingDays', 'AppointmentWeekDay']].head())\n"
   ]
  },
  {
   "cell_type": "code",
   "execution_count": 7,
   "id": "03a617c0-3be0-4094-b150-6651e8d487c5",
   "metadata": {},
   "outputs": [],
   "source": [
    "# Map target, drop unnecessary columns"
   ]
  },
  {
   "cell_type": "code",
   "execution_count": 8,
   "id": "dfae555d-d261-42da-b2bf-35d9641dfa48",
   "metadata": {},
   "outputs": [
    {
     "name": "stdout",
     "output_type": "stream",
     "text": [
      "# Target value counts:\n",
      " No_show\n",
      "0    88208\n",
      "1    22319\n",
      "Name: count, dtype: int64 \n",
      "\n",
      "# Missing values:\n",
      " Gender                    0\n",
      "Age                       0\n",
      "Neighbourhood             0\n",
      "Scholarship               0\n",
      "Hipertension              0\n",
      "Diabetes                  0\n",
      "Alcoholism                0\n",
      "Handcap                   0\n",
      "SMS_received              0\n",
      "No_show                   0\n",
      "WaitingDays               0\n",
      "ScheduledDay_Weekday      0\n",
      "AppointmentDay_Weekday    0\n",
      "AppointmentWeekDay        0\n",
      "dtype: int64\n"
     ]
    }
   ],
   "source": [
    "# Binary encode target\n",
    "df['No_show'] = df['No_show'].map({'No': 0, 'Yes': 1})\n",
    "print(\"# Target value counts:\\n\", df['No_show'].value_counts(), \"\\n\")\n",
    "\n",
    "# Drop unneeded columns\n",
    "df.drop(['PatientId', 'AppointmentID', 'ScheduledDay', 'AppointmentDay'], axis=1, inplace=True)\n",
    "\n",
    "# Check missing values\n",
    "print(\"# Missing values:\\n\", df.isnull().sum())\n"
   ]
  },
  {
   "cell_type": "code",
   "execution_count": 9,
   "id": "2868a530-6e9c-4e76-bb50-a5d11164412f",
   "metadata": {},
   "outputs": [],
   "source": [
    "# Encode categorical features"
   ]
  },
  {
   "cell_type": "code",
   "execution_count": 10,
   "id": "90e813ed-c7c7-4e18-9213-19caf77052c8",
   "metadata": {},
   "outputs": [
    {
     "name": "stdout",
     "output_type": "stream",
     "text": [
      "# Encoded columns:\n",
      "    Gender  Neighbourhood  AppointmentWeekDay\n",
      "0       0             39                   0\n",
      "1       1             39                   0\n",
      "2       0             45                   0\n",
      "3       0             54                   0\n",
      "4       0             39                   0\n"
     ]
    }
   ],
   "source": [
    "categorical_cols = df.select_dtypes(include=['object']).columns\n",
    "le = LabelEncoder()\n",
    "for col in categorical_cols:\n",
    "    df[col] = le.fit_transform(df[col])\n",
    "\n",
    "print(\"# Encoded columns:\\n\", df[categorical_cols].head())\n"
   ]
  },
  {
   "cell_type": "code",
   "execution_count": 11,
   "id": "95a9c93a-132d-4769-987d-a455a0a545a2",
   "metadata": {},
   "outputs": [],
   "source": [
    "# Count of no-shows vs shows"
   ]
  },
  {
   "cell_type": "code",
   "execution_count": 12,
   "id": "26507448-a26a-4a60-9ed4-9996104e6402",
   "metadata": {},
   "outputs": [
    {
     "data": {
      "image/png": "[encoded data removed]",
      "text/plain": [
       "<Figure size 640x480 with 1 Axes>"
      ]
     },
     "metadata": {},
     "output_type": "display_data"
    }
   ],
   "source": [
    "sns.countplot(x='No_show', data=df)\n",
    "plt.title(\"Distribution of Show vs No-show\")\n",
    "plt.show()"
   ]
  },
  {
   "cell_type": "code",
   "execution_count": 13,
   "id": "5beb6e65-4005-4294-b663-e34ec3546355",
   "metadata": {},
   "outputs": [
    {
     "data": {
      "image/png": "[encoded data removed]",
      "text/plain": [
       "<Figure size 640x480 with 1 Axes>"
      ]
     },
     "metadata": {},
     "output_type": "display_data"
    }
   ],
   "source": [
    "sns.countplot(x='SMS_received', hue='No_show', data=df)\n",
    "plt.title(\"Effect of SMS on No-shows\")\n",
    "plt.show()"
   ]
  },
  {
   "cell_type": "code",
   "execution_count": 14,
   "id": "c85670e1-c58a-4c20-8969-3a1e8189d5f6",
   "metadata": {},
   "outputs": [],
   "source": [
    "# Waiting days vs Attendence"
   ]
  },
  {
   "cell_type": "code",
   "execution_count": 15,
   "id": "b897010a-1ef2-4616-a342-2ca61cb133e2",
   "metadata": {},
   "outputs": [
    {
     "data": {
      "image/png": "[encoded data removed]",
      "text/plain": [
       "<Figure size 640x480 with 1 Axes>"
      ]
     },
     "metadata": {},
     "output_type": "display_data"
    }
   ],
   "source": [
    "sns.boxplot(x='No_show', y='WaitingDays', data=df)\n",
    "plt.title(\"Waiting Days vs No-shows\")\n",
    "plt.show()"
   ]
  },
  {
   "cell_type": "code",
   "execution_count": 16,
   "id": "6ac02c3e-c19e-449d-a9cf-904cdd3e0d27",
   "metadata": {},
   "outputs": [],
   "source": [
    "# Age Distribution "
   ]
  },
  {
   "cell_type": "code",
   "execution_count": 17,
   "id": "76305ebe-b80c-4255-90bc-5786a70ca455",
   "metadata": {},
   "outputs": [
    {
     "data": {
      "image/png": "[encoded data removed]",
      "text/plain": [
       "<Figure size 640x480 with 1 Axes>"
      ]
     },
     "metadata": {},
     "output_type": "display_data"
    }
   ],
   "source": [
    "sns.histplot(data=df, x='Age', hue='No_show', multiple=\"stack\", bins=30)\n",
    "plt.title(\"Age Distribution by No-show\")\n",
    "plt.show()"
   ]
  },
  {
   "cell_type": "code",
   "execution_count": 18,
   "id": "188260d5-e291-4371-9597-b2f605bf0806",
   "metadata": {},
   "outputs": [],
   "source": [
    "#Split the data"
   ]
  },
  {
   "cell_type": "code",
   "execution_count": 19,
   "id": "0a3dae98-60b2-4713-9acd-5ebf90f54a7a",
   "metadata": {},
   "outputs": [
    {
     "name": "stdout",
     "output_type": "stream",
     "text": [
      "Train shape: (88421, 13)\n",
      "Test shape: (22106, 13)\n"
     ]
    }
   ],
   "source": [
    "X = df.drop('No_show', axis=1)\n",
    "y = df['No_show']\n",
    "\n",
    "X_train, X_test, y_train, y_test = train_test_split(\n",
    "    X, y, test_size=0.2, random_state=42, stratify=y\n",
    ")\n",
    "\n",
    "print(\"Train shape:\", X_train.shape)\n",
    "print(\"Test shape:\", X_test.shape)\n"
   ]
  },
  {
   "cell_type": "code",
   "execution_count": 20,
   "id": "23c0365a-0f8f-4c29-8f0b-8a2589a3a274",
   "metadata": {},
   "outputs": [],
   "source": [
    "#Feature scaling"
   ]
  },
  {
   "cell_type": "code",
   "execution_count": 21,
   "id": "37c72310-d75e-4777-bfe8-42e1ccd7bf87",
   "metadata": {},
   "outputs": [],
   "source": [
    "scaler = StandardScaler()\n",
    "X_train_scaled = scaler.fit_transform(X_train)\n",
    "X_test_scaled = scaler.transform(X_test)\n"
   ]
  },
  {
   "cell_type": "code",
   "execution_count": 22,
   "id": "69a0ad0f-d8bf-4d19-812e-804c052bb25b",
   "metadata": {},
   "outputs": [],
   "source": [
    "#Logistic Regression"
   ]
  },
  {
   "cell_type": "code",
   "execution_count": 23,
   "id": "e8f289ca-5c07-4c5b-9a5a-6c018728670b",
   "metadata": {},
   "outputs": [
    {
     "name": "stdout",
     "output_type": "stream",
     "text": [
      "Logistic Regression Accuracy: 0.7958020446937483\n",
      "\n",
      "Classification Report:\n",
      "               precision    recall  f1-score   support\n",
      "\n",
      "           0       0.80      0.99      0.89     17642\n",
      "           1       0.37      0.02      0.03      4464\n",
      "\n",
      "    accuracy                           0.80     22106\n",
      "   macro avg       0.58      0.50      0.46     22106\n",
      "weighted avg       0.71      0.80      0.71     22106\n",
      "\n",
      "\n",
      "Confusion Matrix:\n",
      " [[17523   119]\n",
      " [ 4395    69]]\n"
     ]
    }
   ],
   "source": [
    "log_reg = LogisticRegression(max_iter=1000, random_state=42)\n",
    "log_reg.fit(X_train_scaled, y_train)\n",
    "y_pred_log = log_reg.predict(X_test_scaled)\n",
    "\n",
    "print(\"Logistic Regression Accuracy:\", accuracy_score(y_test, y_pred_log))\n",
    "print(\"\\nClassification Report:\\n\", classification_report(y_test, y_pred_log))\n",
    "print(\"\\nConfusion Matrix:\\n\", confusion_matrix(y_test, y_pred_log))\n"
   ]
  },
  {
   "cell_type": "code",
   "execution_count": 24,
   "id": "b115bd6e-6996-487d-b6ec-0fa6f19a2153",
   "metadata": {},
   "outputs": [],
   "source": [
    "# Decision Tree"
   ]
  },
  {
   "cell_type": "code",
   "execution_count": 25,
   "id": "101c47a1-e0e4-48b4-8b0f-613d55449a0c",
   "metadata": {},
   "outputs": [
    {
     "name": "stdout",
     "output_type": "stream",
     "text": [
      "Decision Tree Accuracy: 0.7256400977110287\n"
     ]
    }
   ],
   "source": [
    "dt = DecisionTreeClassifier(random_state=42)\n",
    "dt.fit(X_train, y_train)\n",
    "y_pred_dt = dt.predict(X_test)\n",
    "\n",
    "print(\"Decision Tree Accuracy:\", accuracy_score(y_test, y_pred_dt))\n"
   ]
  },
  {
   "cell_type": "code",
   "execution_count": 26,
   "id": "f7db9082-2ec2-443d-a6c3-22850f8e3407",
   "metadata": {},
   "outputs": [],
   "source": [
    "#Random Forest"
   ]
  },
  {
   "cell_type": "code",
   "execution_count": 27,
   "id": "c6229192-3795-4e85-a06b-dcfe5607cbad",
   "metadata": {},
   "outputs": [
    {
     "name": "stdout",
     "output_type": "stream",
     "text": [
      "Random Forest Accuracy: 0.7742694291142677\n"
     ]
    }
   ],
   "source": [
    "rf = RandomForestClassifier(n_estimators=100, random_state=42)\n",
    "rf.fit(X_train, y_train)\n",
    "y_pred_rf = rf.predict(X_test)\n",
    "\n",
    "print(\"Random Forest Accuracy:\", accuracy_score(y_test, y_pred_rf))\n"
   ]
  },
  {
   "cell_type": "code",
   "execution_count": 31,
   "id": "10cbe86b-b3ef-4f71-882c-72f5b85136d5",
   "metadata": {},
   "outputs": [],
   "source": [
    "#Feature Importance"
   ]
  },
  {
   "cell_type": "code",
   "execution_count": 32,
   "id": "14c14dd6-b060-4c8c-9d9e-1270eda3d5aa",
   "metadata": {},
   "outputs": [
    {
     "name": "stdout",
     "output_type": "stream",
     "text": [
      "Top 10 Feature Importances:\n",
      "Age                       0.328086\n",
      "Neighbourhood             0.301339\n",
      "WaitingDays               0.198304\n",
      "ScheduledDay_Weekday      0.053108\n",
      "Gender                    0.024964\n",
      "AppointmentDay_Weekday    0.019106\n",
      "AppointmentWeekDay        0.018808\n",
      "SMS_received              0.016075\n",
      "Scholarship               0.009766\n",
      "Hipertension              0.009311\n",
      "dtype: float64\n"
     ]
    }
   ],
   "source": [
    "feature_importances = pd.Series(rf.feature_importances_, index=X.columns)\n",
    "print(\"Top 10 Feature Importances:\")\n",
    "print(feature_importances.sort_values(ascending=False).head(10))\n"
   ]
  },
  {
   "cell_type": "code",
   "execution_count": 33,
   "id": "c2afac03-ecbb-4ddc-88dd-72e7c25dc867",
   "metadata": {},
   "outputs": [
    {
     "name": "stdout",
     "output_type": "stream",
     "text": [
      "✅ Results saved to no_show_predictions.csv\n"
     ]
    }
   ],
   "source": [
    "results = pd.DataFrame({\n",
    "    \"Actual_NoShow\": y_test,\n",
    "    \"Predicted_NoShow\": y_pred_rf\n",
    "})\n",
    "\n",
    "results.to_csv(\"no_show_predictions.csv\", index=False)\n",
    "print(\"✅ Results saved to no_show_predictions.csv\")\n"
   ]
  },
  {
   "cell_type": "code",
   "execution_count": 35,
   "id": "9b41227c-3032-4991-a076-a07bcd3e34eb",
   "metadata": {},
   "outputs": [
    {
     "name": "stdout",
     "output_type": "stream",
     "text": [
      "✅ File saved to: C:\\Users\\DELL\\Documents\\no_show_predictions.csv\n"
     ]
    }
   ],
   "source": [
    "import os\n",
    "\n",
    "# Get path to Documents folder\n",
    "documents_path = os.path.join(os.path.expanduser(\"~\"), \"Documents\")\n",
    "\n",
    "# Define the full file path to save in Documents\n",
    "file_path = os.path.join(documents_path, \"no_show_predictions.csv\")\n",
    "\n",
    "# Save the CSV to Documents\n",
    "results.to_csv(file_path, index=False)\n",
    "\n",
    "print(f\"✅ File saved to: {file_path}\")\n"
   ]
  },
  {
   "cell_type": "code",
   "execution_count": null,
   "id": "2e189464-73ca-49c3-9d21-18f3bcf956ab",
   "metadata": {},
   "outputs": [],
   "source": []
  }
 ],
 "metadata": {
  "kernelspec": {
   "display_name": "Python [conda env:base] *",
   "language": "python",
   "name": "conda-base-py"
  },
  "language_info": {
   "codemirror_mode": {
    "name": "ipython",
    "version": 3
   },
   "file_extension": ".py",
   "mimetype": "text/x-python",
   "name": "python",
   "nbconvert_exporter": "python",
   "pygments_lexer": "ipython3",
   "version": "3.13.5"
  }
 },
 "nbformat": 4,
 "nbformat_minor": 5
}
